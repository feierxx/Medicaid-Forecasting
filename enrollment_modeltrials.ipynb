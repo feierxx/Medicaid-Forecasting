{
 "cells": [
  {
   "cell_type": "code",
   "execution_count": 1,
   "metadata": {},
   "outputs": [],
   "source": [
    "import pandas as pd\n",
    "import matplotlib.pyplot as plt\n",
    "import numpy as np"
   ]
  },
  {
   "cell_type": "markdown",
   "metadata": {},
   "source": [
    "# Data Import"
   ]
  },
  {
   "cell_type": "code",
   "execution_count": 25,
   "metadata": {},
   "outputs": [
    {
     "data": {
      "text/html": [
       "<div>\n",
       "<style scoped>\n",
       "    .dataframe tbody tr th:only-of-type {\n",
       "        vertical-align: middle;\n",
       "    }\n",
       "\n",
       "    .dataframe tbody tr th {\n",
       "        vertical-align: top;\n",
       "    }\n",
       "\n",
       "    .dataframe thead th {\n",
       "        text-align: right;\n",
       "    }\n",
       "</style>\n",
       "<table border=\"1\" class=\"dataframe\">\n",
       "  <thead>\n",
       "    <tr style=\"text-align: right;\">\n",
       "      <th></th>\n",
       "      <th>date</th>\n",
       "      <th>enrollment</th>\n",
       "    </tr>\n",
       "  </thead>\n",
       "  <tbody>\n",
       "    <tr>\n",
       "      <th>4</th>\n",
       "      <td>1966-01-01</td>\n",
       "      <td>4000000.0</td>\n",
       "    </tr>\n",
       "    <tr>\n",
       "      <th>5</th>\n",
       "      <td>1970-01-01</td>\n",
       "      <td>14000000.0</td>\n",
       "    </tr>\n",
       "    <tr>\n",
       "      <th>6</th>\n",
       "      <td>1975-01-01</td>\n",
       "      <td>20200000.0</td>\n",
       "    </tr>\n",
       "    <tr>\n",
       "      <th>7</th>\n",
       "      <td>1980-01-01</td>\n",
       "      <td>19600000.0</td>\n",
       "    </tr>\n",
       "    <tr>\n",
       "      <th>8</th>\n",
       "      <td>1985-01-01</td>\n",
       "      <td>19800000.0</td>\n",
       "    </tr>\n",
       "    <tr>\n",
       "      <th>9</th>\n",
       "      <td>1990-01-01</td>\n",
       "      <td>22800000.0</td>\n",
       "    </tr>\n",
       "    <tr>\n",
       "      <th>10</th>\n",
       "      <td>1995-01-01</td>\n",
       "      <td>32300000.0</td>\n",
       "    </tr>\n",
       "    <tr>\n",
       "      <th>11</th>\n",
       "      <td>2000-01-01</td>\n",
       "      <td>34100000.0</td>\n",
       "    </tr>\n",
       "    <tr>\n",
       "      <th>12</th>\n",
       "      <td>2001-01-01</td>\n",
       "      <td>36800000.0</td>\n",
       "    </tr>\n",
       "    <tr>\n",
       "      <th>13</th>\n",
       "      <td>2002-01-01</td>\n",
       "      <td>40400000.0</td>\n",
       "    </tr>\n",
       "    <tr>\n",
       "      <th>14</th>\n",
       "      <td>2003-01-01</td>\n",
       "      <td>43000000.0</td>\n",
       "    </tr>\n",
       "    <tr>\n",
       "      <th>15</th>\n",
       "      <td>2004-01-01</td>\n",
       "      <td>44500000.0</td>\n",
       "    </tr>\n",
       "    <tr>\n",
       "      <th>16</th>\n",
       "      <td>2005-01-01</td>\n",
       "      <td>45800000.0</td>\n",
       "    </tr>\n",
       "    <tr>\n",
       "      <th>17</th>\n",
       "      <td>2006-01-01</td>\n",
       "      <td>45600000.0</td>\n",
       "    </tr>\n",
       "    <tr>\n",
       "      <th>18</th>\n",
       "      <td>2007-01-01</td>\n",
       "      <td>45600000.0</td>\n",
       "    </tr>\n",
       "    <tr>\n",
       "      <th>19</th>\n",
       "      <td>2008-01-01</td>\n",
       "      <td>47200000.0</td>\n",
       "    </tr>\n",
       "    <tr>\n",
       "      <th>20</th>\n",
       "      <td>2009-01-01</td>\n",
       "      <td>50900000.0</td>\n",
       "    </tr>\n",
       "    <tr>\n",
       "      <th>21</th>\n",
       "      <td>2010-01-01</td>\n",
       "      <td>54000000.0</td>\n",
       "    </tr>\n",
       "    <tr>\n",
       "      <th>22</th>\n",
       "      <td>2011-01-01</td>\n",
       "      <td>56200000.0</td>\n",
       "    </tr>\n",
       "    <tr>\n",
       "      <th>23</th>\n",
       "      <td>2012-01-01</td>\n",
       "      <td>58100000.0</td>\n",
       "    </tr>\n",
       "    <tr>\n",
       "      <th>24</th>\n",
       "      <td>2013-01-01</td>\n",
       "      <td>59100000.0</td>\n",
       "    </tr>\n",
       "    <tr>\n",
       "      <th>25</th>\n",
       "      <td>2014-01-01</td>\n",
       "      <td>66800000.0</td>\n",
       "    </tr>\n",
       "    <tr>\n",
       "      <th>26</th>\n",
       "      <td>2015-01-01</td>\n",
       "      <td>71500000.0</td>\n",
       "    </tr>\n",
       "    <tr>\n",
       "      <th>27</th>\n",
       "      <td>2016-01-01</td>\n",
       "      <td>73500000.0</td>\n",
       "    </tr>\n",
       "    <tr>\n",
       "      <th>28</th>\n",
       "      <td>2017-01-01</td>\n",
       "      <td>74000000.0</td>\n",
       "    </tr>\n",
       "    <tr>\n",
       "      <th>29</th>\n",
       "      <td>2018-01-01</td>\n",
       "      <td>73400000.0</td>\n",
       "    </tr>\n",
       "    <tr>\n",
       "      <th>30</th>\n",
       "      <td>2019-01-01</td>\n",
       "      <td>72900000.0</td>\n",
       "    </tr>\n",
       "    <tr>\n",
       "      <th>31</th>\n",
       "      <td>2020-01-01</td>\n",
       "      <td>76200000.0</td>\n",
       "    </tr>\n",
       "    <tr>\n",
       "      <th>32</th>\n",
       "      <td>2021-01-01</td>\n",
       "      <td>84700000.0</td>\n",
       "    </tr>\n",
       "    <tr>\n",
       "      <th>33</th>\n",
       "      <td>2022-01-01</td>\n",
       "      <td>90800000.0</td>\n",
       "    </tr>\n",
       "  </tbody>\n",
       "</table>\n",
       "</div>"
      ],
      "text/plain": [
       "         date  enrollment\n",
       "4  1966-01-01   4000000.0\n",
       "5  1970-01-01  14000000.0\n",
       "6  1975-01-01  20200000.0\n",
       "7  1980-01-01  19600000.0\n",
       "8  1985-01-01  19800000.0\n",
       "9  1990-01-01  22800000.0\n",
       "10 1995-01-01  32300000.0\n",
       "11 2000-01-01  34100000.0\n",
       "12 2001-01-01  36800000.0\n",
       "13 2002-01-01  40400000.0\n",
       "14 2003-01-01  43000000.0\n",
       "15 2004-01-01  44500000.0\n",
       "16 2005-01-01  45800000.0\n",
       "17 2006-01-01  45600000.0\n",
       "18 2007-01-01  45600000.0\n",
       "19 2008-01-01  47200000.0\n",
       "20 2009-01-01  50900000.0\n",
       "21 2010-01-01  54000000.0\n",
       "22 2011-01-01  56200000.0\n",
       "23 2012-01-01  58100000.0\n",
       "24 2013-01-01  59100000.0\n",
       "25 2014-01-01  66800000.0\n",
       "26 2015-01-01  71500000.0\n",
       "27 2016-01-01  73500000.0\n",
       "28 2017-01-01  74000000.0\n",
       "29 2018-01-01  73400000.0\n",
       "30 2019-01-01  72900000.0\n",
       "31 2020-01-01  76200000.0\n",
       "32 2021-01-01  84700000.0\n",
       "33 2022-01-01  90800000.0"
      ]
     },
     "execution_count": 25,
     "metadata": {},
     "output_type": "execute_result"
    }
   ],
   "source": [
    "data = pd.read_excel('statistic_id245347_total-medicaid-enrollment-1966-2022.xlsx',sheet_name = 'Data')\n",
    "data = data.iloc[4:,1:]\n",
    "data.columns = ['date','enrollment']\n",
    "data['date'] = pd.to_datetime(data['date'].astype(str) + '-01-01')\n",
    "data['enrollment'] = data['enrollment']*1000000\n",
    "data"
   ]
  },
  {
   "cell_type": "code",
   "execution_count": 26,
   "metadata": {},
   "outputs": [
    {
     "data": {
      "text/html": [
       "<div>\n",
       "<style scoped>\n",
       "    .dataframe tbody tr th:only-of-type {\n",
       "        vertical-align: middle;\n",
       "    }\n",
       "\n",
       "    .dataframe tbody tr th {\n",
       "        vertical-align: top;\n",
       "    }\n",
       "\n",
       "    .dataframe thead th {\n",
       "        text-align: right;\n",
       "    }\n",
       "</style>\n",
       "<table border=\"1\" class=\"dataframe\">\n",
       "  <thead>\n",
       "    <tr style=\"text-align: right;\">\n",
       "      <th></th>\n",
       "      <th>enrollment</th>\n",
       "    </tr>\n",
       "    <tr>\n",
       "      <th>date</th>\n",
       "      <th></th>\n",
       "    </tr>\n",
       "  </thead>\n",
       "  <tbody>\n",
       "    <tr>\n",
       "      <th>2018-01-01</th>\n",
       "      <td>73400000.0</td>\n",
       "    </tr>\n",
       "    <tr>\n",
       "      <th>2019-01-01</th>\n",
       "      <td>72900000.0</td>\n",
       "    </tr>\n",
       "    <tr>\n",
       "      <th>2020-01-01</th>\n",
       "      <td>76200000.0</td>\n",
       "    </tr>\n",
       "    <tr>\n",
       "      <th>2021-01-01</th>\n",
       "      <td>84700000.0</td>\n",
       "    </tr>\n",
       "    <tr>\n",
       "      <th>2022-01-01</th>\n",
       "      <td>90800000.0</td>\n",
       "    </tr>\n",
       "  </tbody>\n",
       "</table>\n",
       "</div>"
      ],
      "text/plain": [
       "            enrollment\n",
       "date                  \n",
       "2018-01-01  73400000.0\n",
       "2019-01-01  72900000.0\n",
       "2020-01-01  76200000.0\n",
       "2021-01-01  84700000.0\n",
       "2022-01-01  90800000.0"
      ]
     },
     "execution_count": 26,
     "metadata": {},
     "output_type": "execute_result"
    }
   ],
   "source": [
    "train = data[data['date']<'2018-01-01']\n",
    "valid = data[data['date']>'2017-01-01']\n",
    "train.set_index('date',inplace = True)\n",
    "valid.set_index('date',inplace=True)\n",
    "valid"
   ]
  },
  {
   "cell_type": "markdown",
   "metadata": {},
   "source": [
    "# EDA"
   ]
  },
  {
   "cell_type": "code",
   "execution_count": 5,
   "metadata": {},
   "outputs": [
    {
     "data": {
      "text/plain": [
       "[<matplotlib.lines.Line2D at 0x1623f2d90>]"
      ]
     },
     "execution_count": 5,
     "metadata": {},
     "output_type": "execute_result"
    },
    {
     "data": {
      "image/png": "[encoded data removed]",
      "text/plain": [
       "<Figure size 640x480 with 1 Axes>"
      ]
     },
     "metadata": {},
     "output_type": "display_data"
    }
   ],
   "source": [
    "plt.plot(train)"
   ]
  },
  {
   "cell_type": "code",
   "execution_count": 6,
   "metadata": {},
   "outputs": [
    {
     "data": {
      "image/png": "[encoded data removed]",
      "text/plain": [
       "<Figure size 640x480 with 1 Axes>"
      ]
     },
     "execution_count": 6,
     "metadata": {},
     "output_type": "execute_result"
    },
    {
     "data": {
      "image/png": "[encoded data removed]",
      "text/plain": [
       "<Figure size 640x480 with 1 Axes>"
      ]
     },
     "metadata": {},
     "output_type": "display_data"
    }
   ],
   "source": [
    "from statsmodels.graphics.tsaplots import plot_acf\n",
    "plot_acf(train)"
   ]
  },
  {
   "cell_type": "code",
   "execution_count": 8,
   "metadata": {},
   "outputs": [
    {
     "name": "stdout",
     "output_type": "stream",
     "text": [
      "ADF Statistic: -1.639355\n",
      "p-value: 0.462598\n"
     ]
    }
   ],
   "source": [
    "from statsmodels.tsa.stattools import adfuller\n",
    "\n",
    "result = adfuller(train['enrollment'])\n",
    "print('ADF Statistic: %f' % result[0])\n",
    "print('p-value: %f' % result[1])\n"
   ]
  },
  {
   "cell_type": "markdown",
   "metadata": {},
   "source": [
    "# Model Training"
   ]
  },
  {
   "cell_type": "markdown",
   "metadata": {},
   "source": [
    "#### Holt-winter"
   ]
  },
  {
   "cell_type": "code",
   "execution_count": 11,
   "metadata": {},
   "outputs": [
    {
     "name": "stderr",
     "output_type": "stream",
     "text": [
      "/Users/feierx/anaconda3/lib/python3.11/site-packages/statsmodels/tsa/base/tsa_model.py:473: ValueWarning: A date index has been provided, but it has no associated frequency information and so will be ignored when e.g. forecasting.\n",
      "  self._init_dates(dates, freq)\n",
      "/Users/feierx/anaconda3/lib/python3.11/site-packages/statsmodels/tsa/holtwinters/model.py:917: ConvergenceWarning: Optimization failed to converge. Check mle_retvals.\n",
      "  warnings.warn(\n",
      "/Users/feierx/anaconda3/lib/python3.11/site-packages/statsmodels/tsa/base/tsa_model.py:836: ValueWarning: No supported index is available. Prediction results will be given with an integer index beginning at `start`.\n",
      "  return get_prediction_index(\n",
      "/Users/feierx/anaconda3/lib/python3.11/site-packages/statsmodels/tsa/base/tsa_model.py:836: FutureWarning: No supported index is available. In the next version, calling this method in a model without a supported index will result in an exception.\n",
      "  return get_prediction_index(\n"
     ]
    }
   ],
   "source": [
    "from statsmodels.tsa.holtwinters import ExponentialSmoothing\n",
    "\n",
    "model_hw_ad = ExponentialSmoothing(train['enrollment'],trend = 'add').fit()\n",
    "pre_hw_ad = model_hw_ad.forecast(5)"
   ]
  },
  {
   "cell_type": "code",
   "execution_count": 12,
   "metadata": {},
   "outputs": [
    {
     "name": "stderr",
     "output_type": "stream",
     "text": [
      "/Users/feierx/anaconda3/lib/python3.11/site-packages/statsmodels/tsa/base/tsa_model.py:473: ValueWarning: A date index has been provided, but it has no associated frequency information and so will be ignored when e.g. forecasting.\n",
      "  self._init_dates(dates, freq)\n",
      "/Users/feierx/anaconda3/lib/python3.11/site-packages/statsmodels/tsa/holtwinters/model.py:917: ConvergenceWarning: Optimization failed to converge. Check mle_retvals.\n",
      "  warnings.warn(\n",
      "/Users/feierx/anaconda3/lib/python3.11/site-packages/statsmodels/tsa/base/tsa_model.py:836: ValueWarning: No supported index is available. Prediction results will be given with an integer index beginning at `start`.\n",
      "  return get_prediction_index(\n"
     ]
    }
   ],
   "source": [
    "model_hw_mul = ExponentialSmoothing(train['enrollment'],trend = 'mul').fit()\n",
    "pre_hw_mul = model_hw_mul.forecast(5)"
   ]
  },
  {
   "cell_type": "markdown",
   "metadata": {},
   "source": [
    "#### ARIMA"
   ]
  },
  {
   "cell_type": "code",
   "execution_count": 13,
   "metadata": {},
   "outputs": [
    {
     "name": "stdout",
     "output_type": "stream",
     "text": [
      "Performing stepwise search to minimize aic\n",
      " ARIMA(2,1,2)(0,0,0)[0] intercept   : AIC=790.788, Time=0.03 sec\n",
      " ARIMA(0,1,0)(0,0,0)[0] intercept   : AIC=784.794, Time=0.00 sec\n",
      " ARIMA(1,1,0)(0,0,0)[0] intercept   : AIC=786.523, Time=0.00 sec\n",
      " ARIMA(0,1,1)(0,0,0)[0] intercept   : AIC=786.368, Time=0.00 sec\n",
      " ARIMA(0,1,0)(0,0,0)[0]             : AIC=800.388, Time=0.00 sec\n",
      " ARIMA(1,1,1)(0,0,0)[0] intercept   : AIC=787.853, Time=0.01 sec\n",
      "\n",
      "Best model:  ARIMA(0,1,0)(0,0,0)[0] intercept\n",
      "Total fit time: 0.049 seconds\n",
      "                               SARIMAX Results                                \n",
      "==============================================================================\n",
      "Dep. Variable:                      y   No. Observations:                   25\n",
      "Model:               SARIMAX(0, 1, 0)   Log Likelihood                -390.397\n",
      "Date:                Tue, 30 Apr 2024   AIC                            784.794\n",
      "Time:                        21:44:55   BIC                            787.150\n",
      "Sample:                             0   HQIC                           785.419\n",
      "                                 - 25                                         \n",
      "Covariance Type:                  opg                                         \n",
      "==============================================================================\n",
      "                 coef    std err          z      P>|z|      [0.025      0.975]\n",
      "------------------------------------------------------------------------------\n",
      "intercept   2.917e+06   8.46e+05      3.449      0.001    1.26e+06    4.57e+06\n",
      "sigma2      7.879e+12    2.9e+12      2.718      0.007     2.2e+12    1.36e+13\n",
      "===================================================================================\n",
      "Ljung-Box (L1) (Q):                   1.01   Jarque-Bera (JB):                 6.27\n",
      "Prob(Q):                              0.32   Prob(JB):                         0.04\n",
      "Heteroskedasticity (H):               0.30   Skew:                             1.20\n",
      "Prob(H) (two-sided):                  0.11   Kurtosis:                         3.68\n",
      "===================================================================================\n",
      "\n",
      "Warnings:\n",
      "[1] Covariance matrix calculated using the outer product of gradients (complex-step).\n"
     ]
    }
   ],
   "source": [
    "from pmdarima import auto_arima\n",
    "\n",
    "# Run the auto_arima function to find the best ARIMA parameters\n",
    "model_arima = auto_arima(train['enrollment'], seasonal=False, stepwise=True, trace=True,\n",
    "                   error_action='ignore', suppress_warnings=True)\n",
    "\n",
    "# model.summary() will give you a summary of the best model found by auto_arima\n",
    "print(model_arima.summary())"
   ]
  },
  {
   "cell_type": "code",
   "execution_count": 15,
   "metadata": {},
   "outputs": [
    {
     "name": "stderr",
     "output_type": "stream",
     "text": [
      "/Users/feierx/anaconda3/lib/python3.11/site-packages/statsmodels/tsa/base/tsa_model.py:836: ValueWarning: No supported index is available. Prediction results will be given with an integer index beginning at `start`.\n",
      "  return get_prediction_index(\n",
      "/Users/feierx/anaconda3/lib/python3.11/site-packages/statsmodels/tsa/base/tsa_model.py:836: FutureWarning: No supported index is available. In the next version, calling this method in a model without a supported index will result in an exception.\n",
      "  return get_prediction_index(\n"
     ]
    }
   ],
   "source": [
    "pre_arima = model_arima.predict(n_periods=5)"
   ]
  },
  {
   "cell_type": "markdown",
   "metadata": {},
   "source": [
    "#### Prophet"
   ]
  },
  {
   "cell_type": "code",
   "execution_count": 18,
   "metadata": {},
   "outputs": [],
   "source": [
    "train_p = train.resample('MS').interpolate(method='spline',order = 2)\n",
    "train_p = train_p.reset_index()\n",
    "train_p.columns = ['ds','y']\n",
    "train_p = train_p[train_p['ds']>'2004-12-31']"
   ]
  },
  {
   "cell_type": "code",
   "execution_count": 19,
   "metadata": {},
   "outputs": [
    {
     "name": "stderr",
     "output_type": "stream",
     "text": [
      "21:46:16 - cmdstanpy - INFO - Chain [1] start processing\n",
      "21:46:17 - cmdstanpy - INFO - Chain [1] done processing\n"
     ]
    }
   ],
   "source": [
    "from prophet import Prophet\n",
    "m = Prophet()\n",
    "m.fit(train_p)\n",
    "\n",
    "future = m.make_future_dataframe(periods=5,freq='YS')\n",
    "forecast = m.predict(future)\n",
    "result = forecast[['ds','yhat']]\n",
    "\n",
    "pre_pro = result[result['ds']>\"2017-01-01\"]['yhat']"
   ]
  },
  {
   "cell_type": "markdown",
   "metadata": {},
   "source": [
    "# Evaluation"
   ]
  },
  {
   "cell_type": "code",
   "execution_count": 21,
   "metadata": {},
   "outputs": [
    {
     "name": "stdout",
     "output_type": "stream",
     "text": [
      "ARIMA 4673084.872139846\n",
      "Holt-Winter Additive Trend 4743465.841460292\n",
      "Holt-Winter Multiplicative Trend 5350256.866874312\n",
      "Prophet 4904603.580743498\n"
     ]
    }
   ],
   "source": [
    "from sklearn.metrics import mean_squared_error\n",
    "print('ARIMA',np.sqrt(mean_squared_error(valid['enrollment'],pre_arima)))\n",
    "print('Holt-Winter Additive Trend',np.sqrt(mean_squared_error(valid['enrollment'],pre_hw_ad)))\n",
    "print('Holt-Winter Multiplicative Trend',np.sqrt(mean_squared_error(valid['enrollment'],pre_hw_mul)))\n",
    "print('Prophet',np.sqrt(mean_squared_error(valid['enrollment'],pre_pro)))"
   ]
  },
  {
   "cell_type": "markdown",
   "metadata": {},
   "source": [
    "# Refit the optimal model"
   ]
  },
  {
   "cell_type": "code",
   "execution_count": 28,
   "metadata": {},
   "outputs": [
    {
     "name": "stdout",
     "output_type": "stream",
     "text": [
      "Performing stepwise search to minimize aic\n",
      " ARIMA(2,1,2)(0,0,0)[0] intercept   : AIC=948.938, Time=0.10 sec\n",
      " ARIMA(0,1,0)(0,0,0)[0] intercept   : AIC=950.577, Time=0.00 sec\n",
      " ARIMA(1,1,0)(0,0,0)[0] intercept   : AIC=949.791, Time=0.02 sec\n",
      " ARIMA(0,1,1)(0,0,0)[0] intercept   : AIC=948.774, Time=0.00 sec\n",
      " ARIMA(0,1,0)(0,0,0)[0]             : AIC=969.000, Time=0.00 sec\n",
      " ARIMA(1,1,1)(0,0,0)[0] intercept   : AIC=950.123, Time=0.01 sec\n",
      " ARIMA(0,1,2)(0,0,0)[0] intercept   : AIC=954.768, Time=0.01 sec\n",
      " ARIMA(1,1,2)(0,0,0)[0] intercept   : AIC=954.875, Time=0.02 sec\n",
      " ARIMA(0,1,1)(0,0,0)[0]             : AIC=956.580, Time=0.02 sec\n",
      "\n",
      "Best model:  ARIMA(0,1,1)(0,0,0)[0] intercept\n",
      "Total fit time: 0.194 seconds\n",
      "                               SARIMAX Results                                \n",
      "==============================================================================\n",
      "Dep. Variable:                      y   No. Observations:                   30\n",
      "Model:               SARIMAX(0, 1, 1)   Log Likelihood                -471.387\n",
      "Date:                Tue, 30 Apr 2024   AIC                            948.774\n",
      "Time:                        21:47:29   BIC                            952.876\n",
      "Sample:                             0   HQIC                           950.059\n",
      "                                 - 30                                         \n",
      "Covariance Type:                  opg                                         \n",
      "==============================================================================\n",
      "                 coef    std err          z      P>|z|      [0.025      0.975]\n",
      "------------------------------------------------------------------------------\n",
      "intercept   2.242e+06   6.43e+05      3.486      0.000    9.82e+05     3.5e+06\n",
      "ma.L1          0.4981      0.162      3.066      0.002       0.180       0.816\n",
      "sigma2      5.765e+12      0.327   1.76e+13      0.000    5.77e+12    5.77e+12\n",
      "===================================================================================\n",
      "Ljung-Box (L1) (Q):                   0.12   Jarque-Bera (JB):                 5.94\n",
      "Prob(Q):                              0.73   Prob(JB):                         0.05\n",
      "Heteroskedasticity (H):               0.65   Skew:                             1.07\n",
      "Prob(H) (two-sided):                  0.51   Kurtosis:                         3.59\n",
      "===================================================================================\n",
      "\n",
      "Warnings:\n",
      "[1] Covariance matrix calculated using the outer product of gradients (complex-step).\n",
      "[2] Covariance matrix is singular or near-singular, with condition number 4.08e+29. Standard errors may be unstable.\n"
     ]
    }
   ],
   "source": [
    "from pmdarima import auto_arima\n",
    "\n",
    "# Run the auto_arima function to find the best ARIMA parameters\n",
    "model = auto_arima(data['enrollment'], seasonal=False, stepwise=True, trace=True,\n",
    "                   error_action='ignore', suppress_warnings=True)\n",
    "\n",
    "# model.summary() will give you a summary of the best model found by auto_arima\n",
    "print(model.summary())"
   ]
  },
  {
   "cell_type": "code",
   "execution_count": 29,
   "metadata": {},
   "outputs": [
    {
     "data": {
      "text/plain": [
       "34    9.365023e+07\n",
       "35    9.589223e+07\n",
       "36    9.813422e+07\n",
       "37    1.003762e+08\n",
       "38    1.026182e+08\n",
       "39    1.048602e+08\n",
       "40    1.071022e+08\n",
       "41    1.093442e+08\n",
       "42    1.115862e+08\n",
       "43    1.138282e+08\n",
       "dtype: float64"
      ]
     },
     "execution_count": 29,
     "metadata": {},
     "output_type": "execute_result"
    }
   ],
   "source": [
    "arima_predict = model.predict(n_periods=10)\n",
    "arima_predict"
   ]
  },
  {
   "cell_type": "code",
   "execution_count": 31,
   "metadata": {},
   "outputs": [
    {
     "data": {
      "text/plain": [
       "<matplotlib.legend.Legend at 0x16a762e90>"
      ]
     },
     "execution_count": 31,
     "metadata": {},
     "output_type": "execute_result"
    },
    {
     "data": {
      "image/png": "[encoded data removed]",
      "text/plain": [
       "<Figure size 1200x600 with 1 Axes>"
      ]
     },
     "metadata": {},
     "output_type": "display_data"
    }
   ],
   "source": [
    "plt.figure(figsize=(12, 6))\n",
    "plt.plot(data.index, data['enrollment'], label='Historical Data', color='blue')\n",
    "plt.plot(arima_predict.index, arima_predict, label='Forecast', color='red')\n",
    "plt.title('Additive Holt Winter')\n",
    "plt.legend()"
   ]
  },
  {
   "cell_type": "code",
   "execution_count": 32,
   "metadata": {},
   "outputs": [
    {
     "name": "stderr",
     "output_type": "stream",
     "text": [
      "/Users/feierx/anaconda3/lib/python3.11/site-packages/statsmodels/tsa/holtwinters/model.py:917: ConvergenceWarning: Optimization failed to converge. Check mle_retvals.\n",
      "  warnings.warn(\n"
     ]
    },
    {
     "data": {
      "text/plain": [
       "34    9.403152e+07\n",
       "35    9.727779e+07\n",
       "36    1.005241e+08\n",
       "37    1.037703e+08\n",
       "38    1.070166e+08\n",
       "39    1.102629e+08\n",
       "40    1.135091e+08\n",
       "41    1.167554e+08\n",
       "42    1.200017e+08\n",
       "43    1.232480e+08\n",
       "dtype: float64"
      ]
     },
     "execution_count": 32,
     "metadata": {},
     "output_type": "execute_result"
    }
   ],
   "source": [
    "model = ExponentialSmoothing(data['enrollment'],trend = 'add').fit()\n",
    "prediction = model.forecast(10)\n",
    "prediction"
   ]
  },
  {
   "cell_type": "code",
   "execution_count": 33,
   "metadata": {},
   "outputs": [
    {
     "data": {
      "text/plain": [
       "<matplotlib.legend.Legend at 0x173593050>"
      ]
     },
     "execution_count": 33,
     "metadata": {},
     "output_type": "execute_result"
    },
    {
     "data": {
      "image/png": "[encoded data removed]",
      "text/plain": [
       "<Figure size 1200x600 with 1 Axes>"
      ]
     },
     "metadata": {},
     "output_type": "display_data"
    }
   ],
   "source": [
    "plt.figure(figsize=(12, 6))\n",
    "plt.plot(data.index, data['enrollment'], label='Historical Data', color='blue')\n",
    "plt.plot(prediction.index, prediction, label='Forecast', color='red')\n",
    "plt.title('Additive Holt Winter')\n",
    "plt.legend()"
   ]
  },
  {
   "cell_type": "code",
   "execution_count": 34,
   "metadata": {},
   "outputs": [
    {
     "name": "stderr",
     "output_type": "stream",
     "text": [
      "/Users/feierx/anaconda3/lib/python3.11/site-packages/statsmodels/tsa/holtwinters/model.py:917: ConvergenceWarning: Optimization failed to converge. Check mle_retvals.\n",
      "  warnings.warn(\n"
     ]
    },
    {
     "data": {
      "text/plain": [
       "34    9.727261e+07\n",
       "35    1.043002e+08\n",
       "36    1.118355e+08\n",
       "37    1.199152e+08\n",
       "38    1.285786e+08\n",
       "39    1.378679e+08\n",
       "40    1.478284e+08\n",
       "41    1.585084e+08\n",
       "42    1.699601e+08\n",
       "43    1.822391e+08\n",
       "dtype: float64"
      ]
     },
     "execution_count": 34,
     "metadata": {},
     "output_type": "execute_result"
    }
   ],
   "source": [
    "model = ExponentialSmoothing(data['enrollment'],trend = 'mul').fit()\n",
    "prediction = model.forecast(10)\n",
    "prediction"
   ]
  },
  {
   "cell_type": "code",
   "execution_count": 35,
   "metadata": {},
   "outputs": [
    {
     "data": {
      "text/plain": [
       "<matplotlib.legend.Legend at 0x1736028d0>"
      ]
     },
     "execution_count": 35,
     "metadata": {},
     "output_type": "execute_result"
    },
    {
     "data": {
      "image/png": "[encoded data removed]",
      "text/plain": [
       "<Figure size 1200x600 with 1 Axes>"
      ]
     },
     "metadata": {},
     "output_type": "display_data"
    }
   ],
   "source": [
    "plt.figure(figsize=(12, 6))\n",
    "plt.plot(data.index, data['enrollment'], label='Historical Data', color='blue')\n",
    "plt.plot(prediction.index, prediction, label='Forecast', color='red')\n",
    "plt.title('Multiplicative Holt Winter')\n",
    "plt.legend()"
   ]
  },
  {
   "cell_type": "code",
   "execution_count": null,
   "metadata": {},
   "outputs": [
    {
     "data": {
      "text/html": [
       "<div>\n",
       "<style scoped>\n",
       "    .dataframe tbody tr th:only-of-type {\n",
       "        vertical-align: middle;\n",
       "    }\n",
       "\n",
       "    .dataframe tbody tr th {\n",
       "        vertical-align: top;\n",
       "    }\n",
       "\n",
       "    .dataframe thead th {\n",
       "        text-align: right;\n",
       "    }\n",
       "</style>\n",
       "<table border=\"1\" class=\"dataframe\">\n",
       "  <thead>\n",
       "    <tr style=\"text-align: right;\">\n",
       "      <th></th>\n",
       "      <th>date</th>\n",
       "      <th>spending</th>\n",
       "    </tr>\n",
       "  </thead>\n",
       "  <tbody>\n",
       "    <tr>\n",
       "      <th>43</th>\n",
       "      <td>2013-01-01</td>\n",
       "      <td>4.560386e+11</td>\n",
       "    </tr>\n",
       "    <tr>\n",
       "      <th>44</th>\n",
       "      <td>2014-01-01</td>\n",
       "      <td>4.946800e+11</td>\n",
       "    </tr>\n",
       "    <tr>\n",
       "      <th>45</th>\n",
       "      <td>2015-01-01</td>\n",
       "      <td>5.490622e+11</td>\n",
       "    </tr>\n",
       "    <tr>\n",
       "      <th>46</th>\n",
       "      <td>2016-01-01</td>\n",
       "      <td>5.772512e+11</td>\n",
       "    </tr>\n",
       "    <tr>\n",
       "      <th>47</th>\n",
       "      <td>2017-01-01</td>\n",
       "      <td>6.000432e+11</td>\n",
       "    </tr>\n",
       "    <tr>\n",
       "      <th>48</th>\n",
       "      <td>2018-01-01</td>\n",
       "      <td>6.160970e+11</td>\n",
       "    </tr>\n",
       "    <tr>\n",
       "      <th>49</th>\n",
       "      <td>2019-01-01</td>\n",
       "      <td>6.269300e+11</td>\n",
       "    </tr>\n",
       "    <tr>\n",
       "      <th>50</th>\n",
       "      <td>2020-01-01</td>\n",
       "      <td>6.827060e+11</td>\n",
       "    </tr>\n",
       "    <tr>\n",
       "      <th>51</th>\n",
       "      <td>2021-01-01</td>\n",
       "      <td>7.482187e+11</td>\n",
       "    </tr>\n",
       "    <tr>\n",
       "      <th>52</th>\n",
       "      <td>2022-01-01</td>\n",
       "      <td>8.242363e+11</td>\n",
       "    </tr>\n",
       "  </tbody>\n",
       "</table>\n",
       "</div>"
      ],
      "text/plain": [
       "         date      spending\n",
       "43 2013-01-01  4.560386e+11\n",
       "44 2014-01-01  4.946800e+11\n",
       "45 2015-01-01  5.490622e+11\n",
       "46 2016-01-01  5.772512e+11\n",
       "47 2017-01-01  6.000432e+11\n",
       "48 2018-01-01  6.160970e+11\n",
       "49 2019-01-01  6.269300e+11\n",
       "50 2020-01-01  6.827060e+11\n",
       "51 2021-01-01  7.482187e+11\n",
       "52 2022-01-01  8.242363e+11"
      ]
     },
     "metadata": {},
     "output_type": "display_data"
    }
   ],
   "source": [
    "data.tail(10)"
   ]
  }
 ],
 "metadata": {
  "kernelspec": {
   "display_name": "base",
   "language": "python",
   "name": "python3"
  },
  "language_info": {
   "codemirror_mode": {
    "name": "ipython",
    "version": 3
   },
   "file_extension": ".py",
   "mimetype": "text/x-python",
   "name": "python",
   "nbconvert_exporter": "python",
   "pygments_lexer": "ipython3",
   "version": "3.11.5"
  }
 },
 "nbformat": 4,
 "nbformat_minor": 2
}
